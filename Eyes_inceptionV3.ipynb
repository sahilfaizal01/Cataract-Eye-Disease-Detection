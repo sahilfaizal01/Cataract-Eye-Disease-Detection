{
  "nbformat": 4,
  "nbformat_minor": 0,
  "metadata": {
    "colab": {
      "provenance": [],
      "collapsed_sections": []
    },
    "kernelspec": {
      "name": "python3",
      "display_name": "Python 3"
    },
    "language_info": {
      "name": "python"
    },
    "accelerator": "GPU"
  },
  "cells": [
    {
      "cell_type": "code",
      "metadata": {
        "id": "M0qitP_yQcYm"
      },
      "source": [
        "from keras.layers import Input,Lambda,Dense,Flatten\n",
        "from keras.models import Model\n",
        "from keras.preprocessing import image\n",
        "from keras.preprocessing.image import ImageDataGenerator\n",
        "from keras.models import Sequential\n",
        "import numpy as np\n",
        "from keras import layers\n",
        "from keras.applications import inception_v3"
      ],
      "execution_count": null,
      "outputs": []
    },
    {
      "cell_type": "code",
      "metadata": {
        "id": "-GQpuBB_QoVQ"
      },
      "source": [
        "cataract = ImageDataGenerator(rescale = 1./255,\n",
        "                                 shear_range = 0.2,\n",
        "                                  zoom_range = 0.2,\n",
        "                                horizontal_flip = True,vertical_flip=True)"
      ],
      "execution_count": null,
      "outputs": []
    },
    {
      "cell_type": "code",
      "metadata": {
        "id": "Od0ix088QoXp",
        "colab": {
          "base_uri": "https://localhost:8080/"
        },
        "outputId": "7db8444a-4fd8-4a61-ae79-c3b25590090f"
      },
      "source": [
        "train_data = cataract.flow_from_directory(directory = '/content/drive/My Drive/DATA/train',target_size=(224,224))"
      ],
      "execution_count": null,
      "outputs": [
        {
          "output_type": "stream",
          "text": [
            "Found 2508 images belonging to 2 classes.\n"
          ],
          "name": "stdout"
        }
      ]
    },
    {
      "cell_type": "code",
      "metadata": {
        "id": "xzr1dm-HQoaD",
        "colab": {
          "base_uri": "https://localhost:8080/"
        },
        "outputId": "6aa51246-0e0b-4085-f10f-53fd59699378"
      },
      "source": [
        "cataract = ImageDataGenerator(rescale = 1./255)\n",
        "test_data = cataract.flow_from_directory(directory = '/content/drive/My Drive/DATA/test',target_size=(224,224))"
      ],
      "execution_count": null,
      "outputs": [
        {
          "output_type": "stream",
          "text": [
            "Found 568 images belonging to 2 classes.\n"
          ],
          "name": "stdout"
        }
      ]
    },
    {
      "cell_type": "code",
      "metadata": {
        "colab": {
          "base_uri": "https://localhost:8080/"
        },
        "id": "6AfqdnZOjuId",
        "outputId": "0e22c276-de14-49fa-ce00-5a2779db9d84"
      },
      "source": [
        "from google.colab import drive\n",
        "drive.mount('/content/drive')"
      ],
      "execution_count": null,
      "outputs": [
        {
          "output_type": "stream",
          "text": [
            "Drive already mounted at /content/drive; to attempt to forcibly remount, call drive.mount(\"/content/drive\", force_remount=True).\n"
          ],
          "name": "stdout"
        }
      ]
    },
    {
      "cell_type": "code",
      "metadata": {
        "id": "mAm0fu9qQocP"
      },
      "source": [
        "inception = inception_v3.InceptionV3(\n",
        "    weights='imagenet', \n",
        "    include_top=False,  \n",
        "    input_shape=(224,224,3)\n",
        ")\n",
        "# The Convolutional Neural Network is instantiated using the pre-trained ImageNet weights"
      ],
      "execution_count": null,
      "outputs": []
    },
    {
      "cell_type": "code",
      "metadata": {
        "id": "17zq5QxBQofY"
      },
      "source": [
        "model = Sequential()\n",
        "model.add(inception)\n",
        "model.add(Dense(256, activation='relu'))\n",
        "model.add(layers.Dropout(rate=0.5))\n",
        "model.add(Dense(128, activation='sigmoid'))\n",
        "model.add(layers.Dropout(rate=0.2))\n",
        "model.add(Dense(128, activation='relu'))\n",
        "model.add(layers.Dropout(0.1))\n",
        "model.add(Flatten())\n",
        "model.add(Dense(2,activation=\"sigmoid\"))"
      ],
      "execution_count": null,
      "outputs": []
    },
    {
      "cell_type": "code",
      "metadata": {
        "id": "d2GjO0wmQohk",
        "colab": {
          "base_uri": "https://localhost:8080/"
        },
        "outputId": "5f6578b2-7f1d-4052-c681-16d72610b98c"
      },
      "source": [
        "model.summary()"
      ],
      "execution_count": null,
      "outputs": [
        {
          "output_type": "stream",
          "text": [
            "Model: \"sequential_3\"\n",
            "_________________________________________________________________\n",
            "Layer (type)                 Output Shape              Param #   \n",
            "=================================================================\n",
            "inception_v3 (Functional)    (None, 5, 5, 2048)        21802784  \n",
            "_________________________________________________________________\n",
            "dense_12 (Dense)             (None, 5, 5, 256)         524544    \n",
            "_________________________________________________________________\n",
            "dropout_9 (Dropout)          (None, 5, 5, 256)         0         \n",
            "_________________________________________________________________\n",
            "dense_13 (Dense)             (None, 5, 5, 128)         32896     \n",
            "_________________________________________________________________\n",
            "dropout_10 (Dropout)         (None, 5, 5, 128)         0         \n",
            "_________________________________________________________________\n",
            "dense_14 (Dense)             (None, 5, 5, 128)         16512     \n",
            "_________________________________________________________________\n",
            "dropout_11 (Dropout)         (None, 5, 5, 128)         0         \n",
            "_________________________________________________________________\n",
            "flatten_3 (Flatten)          (None, 3200)              0         \n",
            "_________________________________________________________________\n",
            "dense_15 (Dense)             (None, 2)                 6402      \n",
            "=================================================================\n",
            "Total params: 22,383,138\n",
            "Trainable params: 22,348,706\n",
            "Non-trainable params: 34,432\n",
            "_________________________________________________________________\n"
          ],
          "name": "stdout"
        }
      ]
    },
    {
      "cell_type": "code",
      "metadata": {
        "id": "ALaJP9DfQojJ"
      },
      "source": [
        "model.compile(optimizer='adam',loss='binary_crossentropy',metrics=['accuracy'])"
      ],
      "execution_count": null,
      "outputs": []
    },
    {
      "cell_type": "code",
      "metadata": {
        "id": "ntAPoSe1QooW",
        "colab": {
          "base_uri": "https://localhost:8080/"
        },
        "outputId": "17a91804-46d3-4c08-c62c-f140f1f67107"
      },
      "source": [
        "history_inception=model.fit_generator(train_data,validation_data=test_data,epochs=30)"
      ],
      "execution_count": null,
      "outputs": [
        {
          "output_type": "stream",
          "text": [
            "/usr/local/lib/python3.7/dist-packages/keras/engine/training.py:1915: UserWarning: `Model.fit_generator` is deprecated and will be removed in a future version. Please use `Model.fit`, which supports generators.\n",
            "  warnings.warn('`Model.fit_generator` is deprecated and '\n"
          ],
          "name": "stderr"
        },
        {
          "output_type": "stream",
          "text": [
            "Epoch 1/30\n",
            "79/79 [==============================] - 73s 623ms/step - loss: 0.5284 - accuracy: 0.7360 - val_loss: 1.3656 - val_accuracy: 0.5264\n",
            "Epoch 2/30\n",
            "79/79 [==============================] - 40s 507ms/step - loss: 0.3418 - accuracy: 0.8739 - val_loss: 0.8042 - val_accuracy: 0.5581\n",
            "Epoch 3/30\n",
            "79/79 [==============================] - 41s 523ms/step - loss: 0.3543 - accuracy: 0.8722 - val_loss: 0.5367 - val_accuracy: 0.7905\n",
            "Epoch 4/30\n",
            "79/79 [==============================] - 41s 521ms/step - loss: 0.3163 - accuracy: 0.8811 - val_loss: 0.7042 - val_accuracy: 0.4754\n",
            "Epoch 5/30\n",
            "79/79 [==============================] - 41s 516ms/step - loss: 0.3080 - accuracy: 0.8749 - val_loss: 0.3663 - val_accuracy: 0.8415\n",
            "Epoch 6/30\n",
            "79/79 [==============================] - 41s 517ms/step - loss: 0.2698 - accuracy: 0.9024 - val_loss: 0.3459 - val_accuracy: 0.8785\n",
            "Epoch 7/30\n",
            "79/79 [==============================] - 41s 521ms/step - loss: 0.2689 - accuracy: 0.9013 - val_loss: 0.4302 - val_accuracy: 0.8204\n",
            "Epoch 8/30\n",
            "79/79 [==============================] - 41s 519ms/step - loss: 0.2391 - accuracy: 0.9074 - val_loss: 0.5915 - val_accuracy: 0.7694\n",
            "Epoch 9/30\n",
            "79/79 [==============================] - 41s 518ms/step - loss: 0.2303 - accuracy: 0.9123 - val_loss: 0.3945 - val_accuracy: 0.8785\n",
            "Epoch 10/30\n",
            "79/79 [==============================] - 41s 516ms/step - loss: 0.2613 - accuracy: 0.9137 - val_loss: 0.4722 - val_accuracy: 0.8187\n",
            "Epoch 11/30\n",
            "79/79 [==============================] - 41s 516ms/step - loss: 0.2417 - accuracy: 0.9108 - val_loss: 0.4417 - val_accuracy: 0.8873\n",
            "Epoch 12/30\n",
            "79/79 [==============================] - 41s 520ms/step - loss: 0.2542 - accuracy: 0.9058 - val_loss: 0.3568 - val_accuracy: 0.8644\n",
            "Epoch 13/30\n",
            "79/79 [==============================] - 41s 520ms/step - loss: 0.2064 - accuracy: 0.9251 - val_loss: 0.3106 - val_accuracy: 0.8803\n",
            "Epoch 14/30\n",
            "79/79 [==============================] - 41s 512ms/step - loss: 0.1958 - accuracy: 0.9256 - val_loss: 0.3628 - val_accuracy: 0.8504\n",
            "Epoch 15/30\n",
            "79/79 [==============================] - 40s 511ms/step - loss: 0.1998 - accuracy: 0.9308 - val_loss: 0.2139 - val_accuracy: 0.9155\n",
            "Epoch 16/30\n",
            "79/79 [==============================] - 41s 514ms/step - loss: 0.1733 - accuracy: 0.9315 - val_loss: 0.3460 - val_accuracy: 0.8433\n",
            "Epoch 17/30\n",
            "79/79 [==============================] - 40s 505ms/step - loss: 0.1780 - accuracy: 0.9302 - val_loss: 0.2669 - val_accuracy: 0.8996\n",
            "Epoch 18/30\n",
            "79/79 [==============================] - 40s 507ms/step - loss: 0.1698 - accuracy: 0.9403 - val_loss: 0.2482 - val_accuracy: 0.9102\n",
            "Epoch 19/30\n",
            "79/79 [==============================] - 41s 514ms/step - loss: 0.1743 - accuracy: 0.9399 - val_loss: 0.3329 - val_accuracy: 0.8715\n",
            "Epoch 20/30\n",
            "79/79 [==============================] - 41s 514ms/step - loss: 0.1670 - accuracy: 0.9420 - val_loss: 0.4249 - val_accuracy: 0.8380\n",
            "Epoch 21/30\n",
            "79/79 [==============================] - 41s 512ms/step - loss: 0.1635 - accuracy: 0.9368 - val_loss: 0.2021 - val_accuracy: 0.9243\n",
            "Epoch 22/30\n",
            "79/79 [==============================] - 41s 512ms/step - loss: 0.1409 - accuracy: 0.9537 - val_loss: 0.2726 - val_accuracy: 0.9243\n",
            "Epoch 23/30\n",
            "79/79 [==============================] - 41s 514ms/step - loss: 0.1313 - accuracy: 0.9566 - val_loss: 0.2633 - val_accuracy: 0.8979\n",
            "Epoch 24/30\n",
            "79/79 [==============================] - 41s 512ms/step - loss: 0.1822 - accuracy: 0.9272 - val_loss: 0.3328 - val_accuracy: 0.8785\n",
            "Epoch 25/30\n",
            "79/79 [==============================] - 40s 508ms/step - loss: 0.1521 - accuracy: 0.9418 - val_loss: 0.3068 - val_accuracy: 0.8820\n",
            "Epoch 26/30\n",
            "79/79 [==============================] - 40s 506ms/step - loss: 0.1231 - accuracy: 0.9555 - val_loss: 0.2347 - val_accuracy: 0.9190\n",
            "Epoch 27/30\n",
            "79/79 [==============================] - 39s 493ms/step - loss: 0.1527 - accuracy: 0.9475 - val_loss: 0.4807 - val_accuracy: 0.8380\n",
            "Epoch 28/30\n",
            "79/79 [==============================] - 39s 496ms/step - loss: 0.1271 - accuracy: 0.9581 - val_loss: 0.1828 - val_accuracy: 0.9349\n",
            "Epoch 29/30\n",
            "79/79 [==============================] - 40s 503ms/step - loss: 0.1195 - accuracy: 0.9544 - val_loss: 0.3113 - val_accuracy: 0.8609\n",
            "Epoch 30/30\n",
            "79/79 [==============================] - 41s 514ms/step - loss: 0.1352 - accuracy: 0.9479 - val_loss: 0.2122 - val_accuracy: 0.9313\n"
          ],
          "name": "stdout"
        }
      ]
    },
    {
      "cell_type": "code",
      "metadata": {
        "id": "QQRlMeUdQor0",
        "colab": {
          "base_uri": "https://localhost:8080/",
          "height": 530
        },
        "outputId": "0b46f5a7-fbd5-4820-d6d3-eeee6a1a7634"
      },
      "source": [
        "import matplotlib.pyplot as plt\n",
        "# plot the loss\n",
        "plt.plot(history_inception.history['loss'], label='train loss')\n",
        "plt.plot(history_inception.history['val_loss'], label='val loss')\n",
        "plt.legend()\n",
        "plt.show()\n",
        "plt.savefig('LossVal_loss')\n",
        "\n",
        "# plot the accuracy\n",
        "plt.plot(history_inception.history['accuracy'], label='train acc')\n",
        "plt.plot(history_inception.history['val_accuracy'], label='val acc')\n",
        "plt.legend()\n",
        "plt.show()\n",
        "plt.savefig('AccVal_acc')"
      ],
      "execution_count": null,
      "outputs": [
        {
          "output_type": "display_data",
          "data": {
            "image/png": "[encoded data removed]",
            "text/plain": [
              "<Figure size 432x288 with 1 Axes>"
            ]
          },
          "metadata": {
            "tags": [],
            "needs_background": "light"
          }
        },
        {
          "output_type": "display_data",
          "data": {
            "image/png": "[encoded data removed]",
            "text/plain": [
              "<Figure size 432x288 with 1 Axes>"
            ]
          },
          "metadata": {
            "tags": [],
            "needs_background": "light"
          }
        },
        {
          "output_type": "display_data",
          "data": {
            "text/plain": [
              "<Figure size 432x288 with 0 Axes>"
            ]
          },
          "metadata": {
            "tags": []
          }
        }
      ]
    },
    {
      "cell_type": "code",
      "metadata": {
        "id": "AJWRcr8DQoxG"
      },
      "source": [
        "DATADIR_test=\"/content/drive/My Drive/DATA/test\"\n",
        "CATEGORIES=[\"cataract\",\"normal\"]"
      ],
      "execution_count": null,
      "outputs": []
    },
    {
      "cell_type": "code",
      "metadata": {
        "id": "bMvZjsG7QozZ"
      },
      "source": [
        "import os\n",
        "import cv2\n",
        "from tqdm import tqdm"
      ],
      "execution_count": null,
      "outputs": []
    },
    {
      "cell_type": "code",
      "metadata": {
        "id": "eRsJvVZMQo1k",
        "colab": {
          "base_uri": "https://localhost:8080/"
        },
        "outputId": "97b291a2-726c-4c7e-f0f5-2ba3dc73a6a7"
      },
      "source": [
        "testing_data=[]\n",
        "\n",
        "def create_testing_data():\n",
        "  for category in CATEGORIES:\n",
        "    path = os.path.join(DATADIR_test,category) # paths to covid and normal dir\n",
        "    class_num = CATEGORIES.index(category)\n",
        "    for img in tqdm(os.listdir(path)):\n",
        "      try:\n",
        "        img_array = cv2.imread(os.path.join(path,img),cv2.IMREAD_COLOR)\n",
        "        img_array = cv2.cvtColor(img_array, cv2.COLOR_BGR2RGB)\n",
        "        new_array =cv2.resize(img_array, (224,224))\n",
        "        new_array=new_array*(1.0/255)\n",
        "        testing_data.append([new_array,class_num])\n",
        "      except Exception as e:\n",
        "        print(e)\n",
        "\n",
        "create_testing_data()"
      ],
      "execution_count": null,
      "outputs": [
        {
          "output_type": "stream",
          "text": [
            "100%|██████████| 284/284 [00:00<00:00, 346.33it/s]\n",
            "100%|██████████| 284/284 [00:00<00:00, 329.95it/s]\n"
          ],
          "name": "stderr"
        }
      ]
    },
    {
      "cell_type": "code",
      "metadata": {
        "id": "5goun6HiQo4F",
        "colab": {
          "base_uri": "https://localhost:8080/"
        },
        "outputId": "9d462115-a6b1-48cf-ab58-39577d1965f9"
      },
      "source": [
        "y_pred=[]\n",
        "y_actual=[]\n",
        "for data in tqdm(testing_data):\n",
        "  y_actual.append(data[1])\n",
        "  y_pred.append(model.predict_classes(data[0].reshape(1,224,224,3))[0])"
      ],
      "execution_count": null,
      "outputs": [
        {
          "output_type": "stream",
          "text": [
            "\r  0%|          | 0/568 [00:00<?, ?it/s]/usr/local/lib/python3.7/dist-packages/keras/engine/sequential.py:450: UserWarning: `model.predict_classes()` is deprecated and will be removed after 2021-01-01. Please use instead:* `np.argmax(model.predict(x), axis=-1)`,   if your model does multi-class classification   (e.g. if it uses a `softmax` last-layer activation).* `(model.predict(x) > 0.5).astype(\"int32\")`,   if your model does binary classification   (e.g. if it uses a `sigmoid` last-layer activation).\n",
            "  warnings.warn('`model.predict_classes()` is deprecated and '\n",
            "100%|██████████| 568/568 [00:53<00:00, 10.68it/s]\n"
          ],
          "name": "stderr"
        }
      ]
    },
    {
      "cell_type": "code",
      "metadata": {
        "id": "cLHrL7nLQo6L",
        "colab": {
          "base_uri": "https://localhost:8080/"
        },
        "outputId": "657350bb-d69e-498a-e741-8bcec7aa17c2"
      },
      "source": [
        "from sklearn.metrics import accuracy_score,classification_report,confusion_matrix\n",
        "accuracy_score(y_actual,y_pred)"
      ],
      "execution_count": null,
      "outputs": [
        {
          "output_type": "execute_result",
          "data": {
            "text/plain": [
              "0.9366197183098591"
            ]
          },
          "metadata": {
            "tags": []
          },
          "execution_count": 75
        }
      ]
    },
    {
      "cell_type": "code",
      "metadata": {
        "id": "lta3wUaBQo9T",
        "colab": {
          "base_uri": "https://localhost:8080/"
        },
        "outputId": "65c01e8a-38e0-4451-eca2-0e7eebf394b1"
      },
      "source": [
        "print(classification_report(y_pred,y_actual))"
      ],
      "execution_count": null,
      "outputs": [
        {
          "output_type": "stream",
          "text": [
            "              precision    recall  f1-score   support\n",
            "\n",
            "           0       0.93      0.95      0.94       278\n",
            "           1       0.95      0.93      0.94       290\n",
            "\n",
            "    accuracy                           0.94       568\n",
            "   macro avg       0.94      0.94      0.94       568\n",
            "weighted avg       0.94      0.94      0.94       568\n",
            "\n"
          ],
          "name": "stdout"
        }
      ]
    },
    {
      "cell_type": "code",
      "metadata": {
        "id": "wPVU9GJsQpA7",
        "colab": {
          "base_uri": "https://localhost:8080/"
        },
        "outputId": "7af2b21c-7ca8-4566-cb5f-2d8a94c3048a"
      },
      "source": [
        "!pip install scikit-plot"
      ],
      "execution_count": null,
      "outputs": [
        {
          "output_type": "stream",
          "text": [
            "Requirement already satisfied: scikit-plot in /usr/local/lib/python3.7/dist-packages (0.3.7)\n",
            "Requirement already satisfied: matplotlib>=1.4.0 in /usr/local/lib/python3.7/dist-packages (from scikit-plot) (3.2.2)\n",
            "Requirement already satisfied: joblib>=0.10 in /usr/local/lib/python3.7/dist-packages (from scikit-plot) (1.0.1)\n",
            "Requirement already satisfied: scipy>=0.9 in /usr/local/lib/python3.7/dist-packages (from scikit-plot) (1.4.1)\n",
            "Requirement already satisfied: scikit-learn>=0.18 in /usr/local/lib/python3.7/dist-packages (from scikit-plot) (0.22.2.post1)\n",
            "Requirement already satisfied: numpy>=1.11 in /usr/local/lib/python3.7/dist-packages (from matplotlib>=1.4.0->scikit-plot) (1.19.5)\n",
            "Requirement already satisfied: pyparsing!=2.0.4,!=2.1.2,!=2.1.6,>=2.0.1 in /usr/local/lib/python3.7/dist-packages (from matplotlib>=1.4.0->scikit-plot) (2.4.7)\n",
            "Requirement already satisfied: python-dateutil>=2.1 in /usr/local/lib/python3.7/dist-packages (from matplotlib>=1.4.0->scikit-plot) (2.8.1)\n",
            "Requirement already satisfied: kiwisolver>=1.0.1 in /usr/local/lib/python3.7/dist-packages (from matplotlib>=1.4.0->scikit-plot) (1.3.1)\n",
            "Requirement already satisfied: cycler>=0.10 in /usr/local/lib/python3.7/dist-packages (from matplotlib>=1.4.0->scikit-plot) (0.10.0)\n",
            "Requirement already satisfied: six>=1.5 in /usr/local/lib/python3.7/dist-packages (from python-dateutil>=2.1->matplotlib>=1.4.0->scikit-plot) (1.15.0)\n"
          ],
          "name": "stdout"
        }
      ]
    },
    {
      "cell_type": "code",
      "metadata": {
        "id": "PhAb7HZQxgnT"
      },
      "source": [
        "import scikitplot as skplt"
      ],
      "execution_count": null,
      "outputs": []
    },
    {
      "cell_type": "code",
      "metadata": {
        "id": "0mld1GLixgqP",
        "colab": {
          "base_uri": "https://localhost:8080/",
          "height": 326
        },
        "outputId": "0ab6ded7-59dc-4db8-9668-887a5dccfd85"
      },
      "source": [
        "skplt.metrics.plot_confusion_matrix(\n",
        "    y_actual, \n",
        "    y_pred,\n",
        "    figsize=(7,4),\n",
        "    title_fontsize='18',\n",
        "    text_fontsize='16',\n",
        "    title =' '\n",
        "    )"
      ],
      "execution_count": null,
      "outputs": [
        {
          "output_type": "execute_result",
          "data": {
            "text/plain": [
              "<matplotlib.axes._subplots.AxesSubplot at 0x7fdbf3e11290>"
            ]
          },
          "metadata": {
            "tags": []
          },
          "execution_count": 79
        },
        {
          "output_type": "display_data",
          "data": {
            "image/png": "[encoded data removed]",
            "text/plain": [
              "<Figure size 504x288 with 2 Axes>"
            ]
          },
          "metadata": {
            "tags": [],
            "needs_background": "light"
          }
        }
      ]
    },
    {
      "cell_type": "code",
      "metadata": {
        "id": "1hzMd1mYxgsQ"
      },
      "source": [],
      "execution_count": null,
      "outputs": []
    },
    {
      "cell_type": "code",
      "metadata": {
        "id": "m3t68Ndmxguf"
      },
      "source": [],
      "execution_count": null,
      "outputs": []
    }
  ]
}